{
 "cells": [
  {
   "cell_type": "markdown",
   "metadata": {},
   "source": [
    "# Como configurar/instalar/usar o `BleachBit` no `Linux Ubuntu`\n",
    "\n",
    "## Resumo\n",
    "\n",
    "Neste documento estao contidos os principais comandos e configuracoes para configurar/instalar/usar o `BleachBit` no `Linux Ubuntu`.\n",
    "\n",
    "## _Abstract_\n",
    "\n",
    "_This document contains the main commands and settings for configuring/installing/using `BleachBit` on `Linux Ubuntu`._"
   ]
  },
  {
   "cell_type": "markdown",
   "metadata": {},
   "source": [
    "## 1. Como configurar/instalar/usar o `BleachBit` no `Linux Ubuntu`\n",
    "\n",
    "Siga os passos abaixo para instalar e utilizar o `BleachBit`:\n",
    "\n",
    "1. Abra o `Terminal Emulator` (`Ctrl + Alt + T`).\n",
    "2. Certifique-se de que seu sistema esteja atualizado:\n",
    "   ```bash\n",
    "   sudo apt update && sudo apt upgrade -y\n",
    "   ```\n",
    "3. Instale o `BleachBit` atraves do gerenciador de pacotes:\n",
    "   ```bash\n",
    "   sudo apt install bleachbit -y\n",
    "   ```\n",
    "4. Execute o `BleachBit` via interface grafica ou pelo terminal:\n",
    "   ```bash\n",
    "   bleachbit\n",
    "   ```\n",
    "   Para executar como administrador (permitindo uma limpeza mais profunda):\n",
    "   ```bash\n",
    "   sudo bleachbit\n",
    "   ```"
   ]
  },
  {
   "cell_type": "markdown",
   "metadata": {},
   "source": [
    "### Dicas adicionais\n",
    "\n",
    "O `BleachBit` possui diversas opcoes de limpeza. Explore as categorias disponiveis e marque apenas o que deseja remover. Sempre revise as opcoes antes de executa-las para evitar a exclusao de dados importantes."
   ]
  },
  {
   "cell_type": "markdown",
   "metadata": {},
   "source": [
    "## Referencias\n",
    "\n",
    "[1] OPENAI. ***Instalar BleachBit no Ubuntu***. Acessado em: 31/07/2024."
   ]
  }
 ],
 "metadata": {
  "language_info": {
   "name": "python",
   "pygments_lexer": "ipython3"
  }
 },
 "nbformat": 4,
 "nbformat_minor": 2
}
